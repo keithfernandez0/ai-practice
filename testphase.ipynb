{
  "nbformat": 4,
  "nbformat_minor": 0,
  "metadata": {
    "colab": {
      "provenance": [],
      "authorship_tag": "ABX9TyMbJB7uLcrcM3dDsJZ061KT",
      "include_colab_link": true
    },
    "kernelspec": {
      "name": "python3",
      "display_name": "Python 3"
    },
    "language_info": {
      "name": "python"
    }
  },
  "cells": [
    {
      "cell_type": "markdown",
      "metadata": {
        "id": "view-in-github",
        "colab_type": "text"
      },
      "source": [
        "<a href=\"https://colab.research.google.com/github/keithfernandez0/ai-practice/blob/main/testphase.ipynb\" target=\"_parent\"><img src=\"https://colab.research.google.com/assets/colab-badge.svg\" alt=\"Open In Colab\"/></a>"
      ]
    },
    {
      "cell_type": "code",
      "source": [
        "import tensorflow as tf\n",
        "import numpy as np\n",
        "import matplotlib as plt\n",
        "import keras\n",
        "import pandas\n",
        "\n",
        "# See https://www.tensorflow.org/install for getting module\n",
        "# print(tf.reduce_sum(tf.random.normal([1000, 1000]))) ; Test if tensor is returned\n",
        "\n",
        "print(\"TensorFlow version: \", tf.__version__)"
      ],
      "metadata": {
        "colab": {
          "base_uri": "https://localhost:8080/"
        },
        "id": "iqft2HvPcMXq",
        "outputId": "a9fa0c7d-7b15-4a1d-a2cb-1b5f66fdfad6"
      },
      "execution_count": 21,
      "outputs": [
        {
          "output_type": "stream",
          "name": "stdout",
          "text": [
            "TensorFlow version:  2.9.2\n"
          ]
        }
      ]
    },
    {
      "cell_type": "code",
      "source": [
        "# Testing functionality of NumPy arrays\n",
        "one_dimension_arr = np.array([1.1, 0.9, 6.7, 9.2, 6.5])\n",
        "print(one_dimension_arr)\n",
        "\n",
        "integer_sequence = np.arange(0, 20) # arange method is x to y-exclusive\n",
        "print(integer_sequence)"
      ],
      "metadata": {
        "colab": {
          "base_uri": "https://localhost:8080/"
        },
        "id": "n_BzERqveYjP",
        "outputId": "90eacad9-fd8b-49d7-8182-22eca43458ea"
      },
      "execution_count": 24,
      "outputs": [
        {
          "output_type": "stream",
          "name": "stdout",
          "text": [
            "[1.1 0.9 6.7 9.2 6.5]\n",
            "[ 0  1  2  3  4  5  6  7  8  9 10 11 12 13 14 15 16 17 18 19]\n"
          ]
        }
      ]
    },
    {
      "cell_type": "code",
      "source": [],
      "metadata": {
        "id": "ZyH-rOyjeYy4"
      },
      "execution_count": null,
      "outputs": []
    }
  ]
}